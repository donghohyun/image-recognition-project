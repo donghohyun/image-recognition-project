{
 "cells": [
  {
   "cell_type": "code",
   "execution_count": 10,
   "id": "d32f2a9b",
   "metadata": {},
   "outputs": [],
   "source": [
    "# python version | 3.10.9\n",
    "# webdriver version | 4.10.0"
   ]
  },
  {
   "cell_type": "code",
   "execution_count": null,
   "id": "0d41844b",
   "metadata": {},
   "outputs": [],
   "source": [
    "from selenium import webdriver\n",
    "from selenium.webdriver.common.by import By\n",
    "from selenium.webdriver.support.ui import WebDriverWait\n",
    "from selenium.webdriver.support import expected_conditions as EC\n",
    "import time\n",
    "import random\n",
    "\n",
    "# 웹 드라이버 초기화\n",
    "driver = webdriver.Edge()\n",
    "\n",
    "# 페이지 이동()\n",
    "driver.get('중고차 사이트 주소 입력')\n",
    "\n",
    "ind = 1\n",
    "page = 1  # 진행되고 있는 페이지\n",
    "max_images = 100  # 크롤링할 이미지 최대 개수\n",
    "imgs = []\n",
    "\n",
    "while len(imgs) < max_images:\n",
    "    try:\n",
    "        # 페이지 로딩을 대기\n",
    "        wait = WebDriverWait(driver, 10)\n",
    "        wait.until(EC.visibility_of_element_located((By.XPATH, f'//*[@id=\"content\"]/div[2]/div/div[2]/div[2]/div[3]/div[4]/div[2]/div[{ind}]/div[1]/a/span/img')))\n",
    "\n",
    "        # 크롤링할 이미지 클릭하여 상세정보를 받아오고자 함\n",
    "        driver.find_element(by='xpath', value=f'//*[@id=\"content\"]/div[2]/div/div[2]/div[2]/div[3]/div[4]/div[2]/div[{ind}]/div[1]/a/span/img').click()\n",
    "        time.sleep(0.3)\n",
    "        \n",
    "        # 페이지 전환\n",
    "        driver.switch_to.window(driver.window_handles[1])\n",
    "        time.sleep(random.uniform(0.7, 1.5))\n",
    "\n",
    "        # 첫번째 이미지는 가려진 경우가 대다수여서 다른 이미지 클릭\n",
    "        driver.find_element(by='xpath', value=f'//*[@id=\"bx-pager\"]/div[1]/a[3]/img').click()\n",
    "        time.sleep(0.3)\n",
    "\n",
    "        # 차량 번호와 이미지 주소를 리스트에 입력\n",
    "        img_alt = driver.find_element(by='xpath', value=f'//*[@id=\"content\"]/div[1]/div[2]/div[2]/div[1]/div[2]/div[1]/strong').text\n",
    "        img_src = driver.find_element(by='xpath', value=f'//*[@id=\"btnCarPhotoView\"]/li[4]/div[1]/a/img').get_attribute('src')\n",
    "        imgs.append({\n",
    "            'alt': img_alt,\n",
    "            'src': img_src\n",
    "        })\n",
    "        driver.close()\n",
    "\n",
    "        # 페이지 전환(원래 페이지로 돌아옴)\n",
    "        driver.switch_to.window(driver.window_handles[0])\n",
    "\n",
    "        # 페이지 정환이 되지 않은경우 (화면에 대상이 보이지 않는경우) 다시한번 페이지 전환\n",
    "        ## 간혹 전환이 실행되지 않는 경우를 대비함\n",
    "        if not driver.find_element(by='xpath',\n",
    "                                   value=f'//*[@id=\"content\"]/div[2]/div/div[2]/div[2]/div[3]/div[4]/div[2]/div[{ind}]/div[1]/a/span/img').is_displayed():\n",
    "            driver.switch_to.window(driver.window_handles[0])\n",
    "            time.sleep(3)\n",
    "            continue\n",
    "\n",
    "        ind += 1\n",
    "        print(len(imgs), img_alt, img_src)\n",
    "        time.sleep(random.uniform(0.3, 0.7))\n",
    "\n",
    "    except:\n",
    "\n",
    "        # 다음 페이지로 이동\n",
    "        driver.find_element(by='xpath',\n",
    "                            value=f'//*[@id=\"content\"]/div[2]/div/div[2]/div[2]/div[3]/div[5]/a[{page + 1}]').click()\n",
    "        ind = 1\n",
    "        page += 1\n",
    "\n",
    "# 드라이버 종료\n",
    "driver.quit()\n"
   ]
  },
  {
   "cell_type": "markdown",
   "id": "c08df406",
   "metadata": {},
   "source": [
    "# 크롤링된 이미지 저장"
   ]
  },
  {
   "cell_type": "code",
   "execution_count": null,
   "id": "8cfd0b4c",
   "metadata": {},
   "outputs": [],
   "source": [
    "import urllib.request\n",
    "import os\n",
    "\n",
    "# 이미지를 저장할 경로 설정\n",
    "save_path = f'./car_img_ver.2'\n",
    "\n",
    "# 경로가 존재않을 경우 경로 생성\n",
    "if not os.path.exists(save_path):\n",
    "    os.mkdir(save_path)\n",
    "\n",
    "for idx, one in enumerate(imgs):\n",
    "    src = one['src']\n",
    "    alt = one['alt'].split('\\n')[0]\n",
    "    urllib.request.urlretrieve(src,  f\"{save_path}/{idx+1}_{alt}.png\")\n",
    "    print(idx, alt)\n",
    "\n",
    "print('done')"
   ]
  }
 ],
 "metadata": {
  "kernelspec": {
   "display_name": "Python 3 (ipykernel)",
   "language": "python",
   "name": "python3"
  },
  "language_info": {
   "codemirror_mode": {
    "name": "ipython",
    "version": 3
   },
   "file_extension": ".py",
   "mimetype": "text/x-python",
   "name": "python",
   "nbconvert_exporter": "python",
   "pygments_lexer": "ipython3",
   "version": "3.10.9"
  }
 },
 "nbformat": 4,
 "nbformat_minor": 5
}
